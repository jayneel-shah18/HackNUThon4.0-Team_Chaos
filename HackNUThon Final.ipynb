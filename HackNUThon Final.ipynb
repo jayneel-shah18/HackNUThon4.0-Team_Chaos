{
 "cells": [
  {
   "attachments": {},
   "cell_type": "markdown",
   "id": "fcaa5bcb",
   "metadata": {},
   "source": [
    "Importing all the necessary libraries"
   ]
  },
  {
   "cell_type": "code",
   "execution_count": 1,
   "id": "7ee1e3d6",
   "metadata": {},
   "outputs": [],
   "source": [
    "import socks\n",
    "import socket\n",
    "import requests\n",
    "from bs4 import BeautifulSoup"
   ]
  },
  {
   "cell_type": "code",
   "execution_count": 2,
   "id": "e34920b5",
   "metadata": {},
   "outputs": [],
   "source": [
    "import pandas as pd\n",
    "import numpy as np\n",
    "import random"
   ]
  },
  {
   "cell_type": "code",
   "execution_count": 3,
   "id": "7b981e67",
   "metadata": {},
   "outputs": [],
   "source": [
    "from urllib.request import urlopen\n",
    "socks.set_default_proxy(socks.SOCKS5, \"localhost\", 9150)\n",
    "socket.socket = socks.socksocket"
   ]
  },
  {
   "cell_type": "code",
   "execution_count": 4,
   "id": "cc4b88c5",
   "metadata": {},
   "outputs": [],
   "source": [
    "def getaddrinfo(*args):\n",
    "    return [(socket.AF_INET, socket.SOCK_STREAM, 6, '', (args[0], args[1]))]\n",
    "\n",
    "socket.getaddrinfo = getaddrinfo"
   ]
  },
  {
   "cell_type": "code",
   "execution_count": 5,
   "id": "9888aa3b",
   "metadata": {},
   "outputs": [
    {
     "name": "stdout",
     "output_type": "stream",
     "text": [
      "['eventid', 'iyear', 'imonth', 'iday', 'approxdate', 'extended', 'resolution', 'country', 'country_txt', 'region', 'region_txt', 'provstate', 'city', 'latitude', 'longitude', 'specificity', 'vicinity', 'location', 'summary', 'crit1', 'crit2', 'crit3', 'doubtterr', 'alternative', 'alternative_txt', 'multiple', 'success', 'suicide', 'attacktype1', 'attacktype1_txt', 'attacktype2', 'attacktype2_txt', 'attacktype3', 'attacktype3_txt', 'targtype1', 'targtype1_txt', 'targsubtype1', 'targsubtype1_txt', 'corp1', 'target1', 'natlty1', 'natlty1_txt', 'targtype2', 'targtype2_txt', 'targsubtype2', 'targsubtype2_txt', 'corp2', 'target2', 'natlty2', 'natlty2_txt', 'targtype3', 'targtype3_txt', 'targsubtype3', 'targsubtype3_txt', 'corp3', 'target3', 'natlty3', 'natlty3_txt', 'gname', 'gsubname', 'gname2', 'gsubname2', 'gname3', 'gsubname3', 'motive', 'guncertain1', 'guncertain2', 'guncertain3', 'individual', 'nperps', 'nperpcap', 'claimed', 'claimmode', 'claimmode_txt', 'claim2', 'claimmode2', 'claimmode2_txt', 'claim3', 'claimmode3', 'claimmode3_txt', 'compclaim', 'weaptype1', 'weaptype1_txt', 'weapsubtype1', 'weapsubtype1_txt', 'weaptype2', 'weaptype2_txt', 'weapsubtype2', 'weapsubtype2_txt', 'weaptype3', 'weaptype3_txt', 'weapsubtype3', 'weapsubtype3_txt', 'weaptype4', 'weaptype4_txt', 'weapsubtype4', 'weapsubtype4_txt', 'weapdetail', 'nkill', 'nkillus', 'nkillter', 'nwound', 'nwoundus', 'nwoundte', 'property', 'propextent', 'propextent_txt', 'propvalue', 'propcomment', 'ishostkid', 'nhostkid', 'nhostkidus', 'nhours', 'ndays', 'divert', 'kidhijcountry', 'ransom', 'ransomamt', 'ransomamtus', 'ransompaid', 'ransompaidus', 'ransomnote', 'hostkidoutcome', 'hostkidoutcome_txt', 'nreleased', 'addnotes', 'scite1', 'scite2', 'scite3', 'dbsource', 'INT_LOG', 'INT_IDEO', 'INT_MISC', 'INT_ANY', 'related']\n"
     ]
    },
    {
     "name": "stderr",
     "output_type": "stream",
     "text": [
      "<ipython-input-5-3d27fbc37005>:1: DtypeWarning: Columns (79,114,115) have mixed types. Specify dtype option on import or set low_memory=False.\n",
      "  df=pd.read_csv(\"C:\\\\Users\\\\jayne\\\\OneDrive\\\\Desktop\\\\globalterrorismdb_2021Jan-June_1222dist.csv\",encoding='ISO-8859-1')\n"
     ]
    }
   ],
   "source": [
    "df=pd.read_csv(\"C:\\\\Users\\\\jayne\\\\OneDrive\\\\Desktop\\\\globalterrorismdb_2021Jan-June_1222dist.csv\",encoding='ISO-8859-1')\n",
    "\n",
    "columns=list(df.columns)\n",
    "print(columns)"
   ]
  },
  {
   "cell_type": "code",
   "execution_count": 7,
   "id": "508d442f",
   "metadata": {},
   "outputs": [],
   "source": [
    "substring=[]\n",
    "for i in df['scite1']:\n",
    "    index=i.find('\"',1)\n",
    "    substr=i[1:index]\n",
    "    substring.append(substr)"
   ]
  },
  {
   "attachments": {},
   "cell_type": "markdown",
   "id": "c1aa47f0",
   "metadata": {},
   "source": [
    "Dataset Prepration and Preprocessing"
   ]
  },
  {
   "cell_type": "code",
   "execution_count": 8,
   "id": "3f1c68ab",
   "metadata": {},
   "outputs": [
    {
     "name": "stderr",
     "output_type": "stream",
     "text": [
      "[nltk_data] Downloading package stopwords to\n",
      "[nltk_data]     C:\\Users\\jayneel\\AppData\\Roaming\\nltk_data...\n",
      "[nltk_data]   Package stopwords is already up-to-date!\n"
     ]
    }
   ],
   "source": [
    "import nltk\n",
    "from nltk.corpus import stopwords\n",
    "\n",
    "filtered_sentences=[]\n",
    "nltk.download('stopwords')\n",
    "stop_words = set(stopwords.words('english'))\n",
    "\n",
    "for i in substring:\n",
    "    words = nltk.word_tokenize(i)\n",
    "    filtered_words = [word for word in words if word.lower() not in stop_words]\n",
    "    filtered_sent = ' '.join(filtered_words)\n",
    "    #print(filtered_sent)\n",
    "    filtered_sentences.append(filtered_sent)"
   ]
  },
  {
   "cell_type": "code",
   "execution_count": 9,
   "id": "c4f23970",
   "metadata": {},
   "outputs": [
    {
     "name": "stderr",
     "output_type": "stream",
     "text": [
      "[nltk_data] Downloading package wordnet to\n",
      "[nltk_data]     C:\\Users\\jayneel\\AppData\\Roaming\\nltk_data...\n",
      "[nltk_data]   Package wordnet is already up-to-date!\n"
     ]
    }
   ],
   "source": [
    "from nltk.stem import WordNetLemmatizer\n",
    "\n",
    "nltk.download('wordnet')\n",
    "lemmatizer= WordNetLemmatizer()\n",
    "lemmatized_sentences=[]\n",
    "for i in filtered_sentences:\n",
    "    lemma=lemmatizer.lemmatize(i)\n",
    "    lemmatized_sentences.append(lemma)"
   ]
  },
  {
   "cell_type": "code",
   "execution_count": 10,
   "id": "90852ce4",
   "metadata": {},
   "outputs": [
    {
     "name": "stderr",
     "output_type": "stream",
     "text": [
      "[nltk_data] Downloading package averaged_perceptron_tagger to\n",
      "[nltk_data]     C:\\Users\\jayneel\\AppData\\Roaming\\nltk_data...\n",
      "[nltk_data]   Package averaged_perceptron_tagger is already up-to-\n",
      "[nltk_data]       date!\n"
     ]
    }
   ],
   "source": [
    "from nltk.tokenize import word_tokenize\n",
    "from nltk.tag import pos_tag\n",
    "nltk.download('averaged_perceptron_tagger')\n",
    "\n",
    "final_sentence=[]\n",
    "#text = \"John is going to New York City to visit the Statue of Liberty.\"\n",
    "for i in filtered_sentences:\n",
    "    tokens = word_tokenize(i)\n",
    "    tags = pos_tag(tokens)\n",
    "    result = [word for word, tag in tags if tag != 'NNP' and tag != 'NNPS']\n",
    "    result_text = ' '.join(result)\n",
    "    #print(result_text)\n",
    "    final_sentence.append(result_text)"
   ]
  },
  {
   "cell_type": "code",
   "execution_count": 11,
   "id": "02d8237c",
   "metadata": {},
   "outputs": [
    {
     "name": "stderr",
     "output_type": "stream",
     "text": [
      "[nltk_data] Downloading package opinion_lexicon to\n",
      "[nltk_data]     C:\\Users\\jayneel\\AppData\\Roaming\\nltk_data...\n",
      "[nltk_data]   Package opinion_lexicon is already up-to-date!\n"
     ]
    }
   ],
   "source": [
    "from nltk.corpus import opinion_lexicon\n",
    "nltk.download('opinion_lexicon')\n",
    "dataset=[]\n",
    "neg_words = set(opinion_lexicon.negative())\n",
    "for i in final_sentence:\n",
    "    words = nltk.word_tokenize(i)\n",
    "    negative_words = [word for word in words if word in neg_words]\n",
    "    \n",
    "    if negative_words:\n",
    "        dataset.append(negative_words)"
   ]
  },
  {
   "cell_type": "code",
   "execution_count": 24,
   "id": "2a4b6d14",
   "metadata": {},
   "outputs": [
    {
     "name": "stdout",
     "output_type": "stream",
     "text": [
      "['Murder', 'Robbery', 'Theft', 'Assault', 'Weapon', 'Illegal', 'Crime', 'Gang', 'Drugs', 'Fraud', 'Extortion', 'Kidnap', 'Smuggling', 'Bribe', 'Burglary', 'Homicide', 'Arson', 'Forgery', 'Embezzlement', 'Perjury', 'Bribery', 'Conspiracy', 'Harassment', 'Intimidation', 'Racketeering', 'Stalking', 'Vandalism', 'Cybercrime', 'Money laundering', 'Blackmail', 'Carjacking', 'Hostage-taking', 'Human trafficking', 'Piracy', 'Prostitution', 'Shoplifting', 'Tax evasion', 'Terrorist', 'Assassination', 'Smuggling', 'Cyberstalking', 'Phishing', 'Ponzi scheme', 'Scam', 'Shoplifting', 'Wiretapping', 'Insider trading', 'Malware', 'Espionage', 'vengeful', 'loose', 'destroy', 'resigned', 'terrorize', 'martyrdom', 'harassed', 'genocide', 'breaks', 'undermines', 'threat', 'bad', 'battered', 'decry', 'stolen', 'clash', 'violent', 'incessant', 'harass', 'strike', 'unlikely', 'risk', 'surrender', 'assassin', 'wrong', 'suspect', 'deteriorating', 'grapple', 'wounds', 'offensive', 'extortion', 'confession', 'anarchist', 'tension', 'assassinate', 'flares', 'damaged', 'syndrome', 'allegations', 'killer', 'burned', 'militancy', 'inaction', 'racist', 'die', 'mysteriously', 'disputed', 'embattled', 'thrash', 'blow', 'reckless', 'fatally', 'incendiary', 'rage', 'burning', 'fall', 'repel', 'terror', 'frustrated', 'unrest', 'retreated', 'alarm', 'suspicious', 'repulse', 'killing', 'fierce', 'hostage', 'shatter', 'unspecified', 'suicide', 'explode', 'bleeds', 'sack', 'brutally', 'burn', 'crisis', 'condemn', 'siege', 'worried', 'inflict', 'regrets', 'death', 'deny', 'accuses', 'dissent', 'excuse', 'displaced', 'poison', 'thwart', 'disarm', 'expel', 'repulsed', 'mishap', 'uprising', 'ambush', 'struck', 'intense', 'anger', 'fail', 'conspiracy', 'outbreak', 'stumbles', 'resistance', 'hate', 'died', 'accuse', 'damages', 'noise', 'criminal', 'dissident', 'object', 'critical', 'suspicion', 'falls', 'attack', 'tragedy', 'turmoil', 'explosive', 'burns', 'protest', 'kills', 'fell', 'atrocities', 'injury', 'violently', 'propaganda', 'conflict', 'losses', 'abuses', 'destruction', 'subdued', 'crude', 'extremists', 'extremist', 'cold', 'stole', 'severe', 'notorious', 'attacks', 'casualty', 'denies', 'confrontation', 'plot', 'failure', 'butcher', 'suffers', 'tortured', 'fear', 'flee', 'lone', 'discontent', 'opposition', 'rail', 'criticized', 'deadly', 'hack', 'unfinished', 'shock', 'assault', 'worry', 'risks', 'overrun', 'warned', 'trap', 'prison', 'protests', 'lies', 'toll', 'insecurity', 'lost', 'unknown', 'wound', 'condemned', 'issue', 'crime', 'precipitate', 'fears', 'murder', 'mar', 'drones', 'crushed', 'reject', 'trapped', 'breaking', 'aggression', 'refuted', 'horrified', 'damage', 'dead', 'terrorism', 'rebellious', 'condemns', 'failed', 'dispute', 'critic', 'dissidents', 'desperate', 'decline', 'enemy', 'bomb', 'kill', 'scare', 'knife', 'defect', 'loot', 'sabotage', 'steal', 'hurt', 'brutal', 'sporadic', 'massacre', 'threaten', 'crashing', 'refuse', 'suffer', 'criticism', 'dies', 'sticky', 'embroiled', 'havoc', 'violate', 'unease', 'loses', 'injure', 'warning', 'dumped', 'fatal', 'killed', 'displace']\n"
     ]
    }
   ],
   "source": [
    "dataset_1d = [item for sublist in dataset for item in sublist]\n",
    "final_dataset = ['Murder','Robbery','Theft','Assault','Weapon','Illegal','Crime','Gang','Drugs','Fraud','Extortion','Kidnap','Smuggling','Bribe','Burglary','Homicide','Arson','Forgery','Embezzlement','Perjury','Bribery','Conspiracy','Harassment','Intimidation','Racketeering','Stalking','Vandalism','Cybercrime','Money laundering','Blackmail','Carjacking','Hostage-taking','Human trafficking','Piracy','Prostitution','Shoplifting','Tax evasion','Terrorist','Assassination','Smuggling','Cyberstalking','Phishing','Ponzi scheme','Scam','Shoplifting','Wiretapping','Insider trading','Malware','Espionage']\n",
    "final_dataset += set(dataset_1d)\n",
    "print(final_dataset)"
   ]
  },
  {
   "attachments": {},
   "cell_type": "markdown",
   "id": "6c988546",
   "metadata": {},
   "source": [
    "Automatic Scrapping and asking the user about the number of links he wants to scrape"
   ]
  },
  {
   "cell_type": "code",
   "execution_count": 37,
   "id": "68deecc7",
   "metadata": {},
   "outputs": [
    {
     "name": "stdout",
     "output_type": "stream",
     "text": [
      "Enter the number of links: 50\n"
     ]
    }
   ],
   "source": [
    "option = int(input(\"Enter the number of links: \"))"
   ]
  },
  {
   "cell_type": "code",
   "execution_count": 17,
   "id": "7340d567",
   "metadata": {},
   "outputs": [],
   "source": [
    "import time"
   ]
  },
  {
   "attachments": {},
   "cell_type": "markdown",
   "id": "ada92c5e",
   "metadata": {},
   "source": [
    "Main Logic Behind Automatic Scrapping in which we extracted the total no of links that the users wants from the automated dictionary of words and then displayed the links\n"
   ]
  },
  {
   "cell_type": "code",
   "execution_count": 38,
   "id": "59b5ad58",
   "metadata": {},
   "outputs": [
    {
     "name": "stdout",
     "output_type": "stream",
     "text": [
      "['http://iebkxzjscv4jgaucepdbdf4b7bqmcwd5peulm5cbpoavlsnkfhda5gyd.onion/ddt.cgi?package=cyrus21-murder', 'http://wl.vernccvbvyi5qhfzyqengccj7lkove6bjot2xhh5kajhwvidqafczrad.onion/wiki/Murder_of_Allen_R._Schindler_Jr.?lang=en', 'http://teclqm5qcfue7tnkpwkj63nodq77kppaqtacvr2gdubxx24kjadt55ad.onion/?page=services', 'http://wyfa7fg6s6zmjg2ipqcpxlqy3aoypmmncs5ue7zrzwaum2irve4bo6yd.onion/?page=services', 'http://hmuidcgzsjlcsxe6rdluskevjtgynhupixpb7g5czmjpuftlhrl42bid.onion/category/theft', 'http://oiroh7t63umuhodoiabgifc6qgvomfbey4mzyh52s65zhfe5qvzsmeid.onion/category/theft', 'http://kw4zlnfhxje7top26u57iosg55i7dzuljjcyswo2clgc3mdliviswwyd.onion/product-tag/assault-rifle/', 'http://uhzyuhq6zc7hmjseub6jcmjlaeu7bue4q67khx5kddyndoy7jp7tltyd.onion', 'http://muwgjdckwwmhyi7lj73dspumrxmzuzjvujmtmyrhhbjrgswcakobtfad.onion/product-tag/buy-weapon-online/', 'http://dkasgbyyh3yx4n7g4zj4rwwjb7ugf6y3oqofrkhld4hsth3r52tf2hyd.onion', 'http://qsw7iurcrdwyml5kg4oxbmtqrcnpxiag3iumdarefzeunnyc2dnyljad.onion/market/342', 'http://muwgjdckwwmhyi7lj73dspumrxmzuzjvujmtmyrhhbjrgswcakobtfad.onion/product-tag/buying-illegal-drugs/', 'http://lpoaj7z2zkajuhgnlltpeqh3zyq7wk2iyeggqaduhgxhyajtdt2j7wad.onion/webring.html', 'http://2azus2ydchjmz5l5fcjmhew4elucd72wwwaqpswni3wiyb3gvqjpfeid.onion/crime-contre-lhumanite-les-coquillettes-vegan-halal-a-emporter/', 'http://nzdnmfcf2z5pd3vwfyfy3jhwoubv6qnumdglspqhurqnuvr52khatdad.onion/viewtopic.php?pid=10915', 'http://2azus2ydchjmz5l5fcjmhew4elucd72wwwaqpswni3wiyb3gvqjpfeid.onion/video-un-gang-de-noirs-agresse-et-vole-un-jeune-irlandais-un-gang-dirlandais-disciplinent-les-negres-insolents/', 'http://darkobds5j7xpsncsexzwhzaotyc4sshuiby3wtxslq5jy2mhrulnzad.onion/?rtcl_category=drugs', 'http://duvlyvpbhwl37a2hisxrr4o2sceq2uygfmhpz3wcidf5xz5yjvxvgjid.onion/drugs.php', 'http://zwtft4vrsbk7danrfj4qa5hpqefvsxrstbpj6kksp52hpyxynj4z4vqd.onion/category/fraud/page/32/index.html', 'http://5essxguxi5enurgtuquvrjuvikss4gc5lbhmtz57cq4cedqx5tqvaxqd.onion/articles/formula216.xhtml', 'http://turkeysyslliliijxakijy4d6uvlhwrfimik2y2bwlbxyx3kbb6he7yd.onion/code-of-ethics.html', 'http://24s5nljzd4y32arzupstsjmk3vcluzvs6y63o2e64dndyvy4xbsgaeyd.onion/code-of-ethics.html', 'http://teclqm5qcfue7tnkpwkj63nodq77kppaqtacvr2gdubxx24kjadt55ad.onion/?page=thread&tid=1657', 'http://2xb3jnepwuaikz77r4etc3oc3thgigx55nyyyttdukenmpfoyyzpxiqd.onion', 'http://kw4zlnfhxje7top26u57iosg55i7dzuljjcyswo2clgc3mdliviswwyd.onion/product/guide-to-postal-smuggling/', 'http://marketir7joj2ibuouojg2nwkdwfal5dhisp3g246jl4ur7r7zfvloid.onion/products/', 'http://thestock6nonb74owd6utzh4vld3xsf2n2fwxpwywjgq7maj47mvwmid.onion/viewtopic.php?p=1011&sid=222898bc9d7f1706774bff1674cabe47', 'http://3wymlmcsvxiaqzmbepsdawqpk6o2qsk65jhms72qqjulk5u4bgmvs3qd.onion/fuss/spirit_of_excalibur', 'http://aipkmcyigmgc6onrwlqytofex4v4lo7jjvlp5gkyb4esgnjjwf2wqrid.onion/', 'http://deepme4wt5n3n6nvwnmkiiusewng4nnunjztlbljliq7clhilzruiryd.onion/email', 'http://2azus2ydchjmz5l5fcjmhew4elucd72wwwaqpswni3wiyb3gvqjpfeid.onion/assiege-par-des-maghrebins-ce-conducteur-pro-equipe-de-france-echappe-au-lynchage-et-tue-un-arabe-de-14-ans/', 'http://7ov433bmudtgkl3vnjbg6rfke4n4rwk6xi2mxrvlgjgrw46ws7vqrsqd.onion/bretagne-une-gouine-assassine-a-la-lame-sa-nouvelle-femme-devant-son-gamin-de-5-ans/', 'http://bcinfosst3tgmyfar6sessdkpkaxrc5sdjagvxvkbu6z74yhin7e5gid.onion/tag/arson/', 'http://54lff4sbcjiqp7axhwrjx77zqwazhtaykl43rdqzkjvxpbxwpuln7dad.onion/services/', 'http://oiroh7t63umuhodoiabgifc6qgvomfbey4mzyh52s65zhfe5qvzsmeid.onion/category/forgery', 'http://hmuidcgzsjlcsxe6rdluskevjtgynhupixpb7g5czmjpuftlhrl42bid.onion/category/forgery', 'http://tpm23xwrg3mofky7uosrmecn5waujtxg22eprljoxg7zma6kczmqmrqd.onion/corporate-investigators-services/index.html', 'http://helix5lcrpo7ddkq22ow2segws3tchqq6byqbhztvny77ua7rli6n7id.onion/index.php', 'http://warezrbwontcwnoycul3hj3bgyjkmnhd377ej4fchp5aaxmmezotpyyd.onion/report_file', 'http://f3bjvdm3ppqndqlzanyuv65vlgmq6rh4fkefpm5a2k7ha4bpdb6ik7id.onion/dmca.html', 'http://422ekdpplueem67fhz6liwko6fskspankd3wthpw5qvzmqtxjtxqqpad.onion/category/bribery', 'http://oiroh7t63umuhodoiabgifc6qgvomfbey4mzyh52s65zhfe5qvzsmeid.onion/category/bribery', 'http://xsjatgeivkefeotu7vw5agziw6pvpvjbs26leld2qmjtn2czlvt2owid.onion/?query-0-page=39&cst', 'http://librarian.esmail5pdn24shtvieloeedh7ehz3nrwcdivnfhfcedl7gf4kwddhkqd.onion/@headsoftech:5/iphone-14-pro-vs-ipad-pro-vs-samsung-s22:a', 'http://3g2wfrenve2xcxiotthk4fcsnymzwfbttqbiwveoaox7wxkdh7voouqd.onion/ta/node/6158', 'http://knyybdmc4kakd7gs4y6fvshg27t7jud5oiyrmaihijpepxbehcn7svid.onion/talks/98/', 'http://mpatmcqixia6asa275pgfhbzhqvpol65ylolfxkucgw5kjxsegsuegad.onion', 'http://ddoa2hephx2q7bqi4qbdaizmigpvqzpnprebqlophukrc4nncmfzvqad.onion', 'http://2r7wa5og3ly4umqhmmqqytae6bufl5ql5kz7sorndpqtrkc2ri7tohad.onion/category/racketeering', 'http://duijvkpakr7che2zcshmflcv745nlqp24vp4pqmt3wqkt5yolx4rn4ad.onion/category/racketeering']\n"
     ]
    }
   ],
   "source": [
    "final = []\n",
    "if option == 50:\n",
    "    for keyword in final_dataset[:25]:\n",
    "        res = requests.get(f\"https://ahmia.fi/search/?q={keyword}\")\n",
    "        soup = BeautifulSoup(res.content, 'html.parser')\n",
    "        links = [link.get('href') for link in soup.find_all('a')]\n",
    "        links = list(filter(None, links)) \n",
    "        onion = []\n",
    "        for l in links:\n",
    "            if \"onion\" in l:\n",
    "                onion.append(l)\n",
    "        pref = \"/search/search/redirect?search_term=&redirect_url=\"\n",
    "        links = []\n",
    "        n=len(pref) + len(keyword)\n",
    "        for link in onion:\n",
    "            res = ''\n",
    "            for i in range(0, len(link)):\n",
    "                if i >= n:\n",
    "                    res = res + link[i]    \n",
    "            links.append(res)\n",
    "        links1 = []\n",
    "        for link in links:\n",
    "            if link.find(\"competition\") == -1:\n",
    "                links1.append(link)\n",
    "        final.append(links1[:2])\n",
    "elif option == 100:\n",
    "    for keyword in final_dataset[:25]:\n",
    "        res = requests.get(f\"https://ahmia.fi/search/?q={keyword}\")\n",
    "        soup = BeautifulSoup(res.content, 'html.parser')\n",
    "        links = [link.get('href') for link in soup.find_all('a')]\n",
    "        links = list(filter(None, links)) \n",
    "        onion = []\n",
    "        for l in links:\n",
    "            if \"onion\" in l:\n",
    "                onion.append(l)\n",
    "        pref = \"/search/search/redirect?search_term=&redirect_url=\"\n",
    "        links = []\n",
    "        n=len(pref) + len(keyword)\n",
    "        for link in onion:\n",
    "            res = ''\n",
    "            for i in range(0, len(link)):\n",
    "                if i >= n:\n",
    "                    res = res + link[i]    \n",
    "            links.append(res)\n",
    "        links1 = []\n",
    "        for link in links:\n",
    "            if link.find(\"competition\") == -1:\n",
    "                links1.append(link)\n",
    "        final.append(links1[:4])\n",
    "elif option == 200:\n",
    "    for keyword in final_dataset[:30]:\n",
    "        res = requests.get(f\"https://ahmia.fi/search/?q={keyword}\")\n",
    "        soup = BeautifulSoup(res.content, 'html.parser')\n",
    "        links = [link.get('href') for link in soup.find_all('a')]\n",
    "        links = list(filter(None, links)) \n",
    "        onion = []\n",
    "        for l in links:\n",
    "            if \"onion\" in l:\n",
    "                onion.append(l)\n",
    "        pref = \"/search/search/redirect?search_term=&redirect_url=\"\n",
    "        links = []\n",
    "        n=len(pref) + len(keyword)\n",
    "        for link in onion:\n",
    "            res = ''\n",
    "            for i in range(0, len(link)):\n",
    "                if i >= n:\n",
    "                    res = res + link[i]    \n",
    "            links.append(res)\n",
    "        links1 = []\n",
    "        for link in links:\n",
    "            if link.find(\"competition\") == -1:\n",
    "                links1.append(link)\n",
    "        final.append(links1[:7])\n",
    "        \n",
    "final_list = [element for sublist in final for element in sublist]\n",
    "print(final_list)"
   ]
  },
  {
   "attachments": {},
   "cell_type": "markdown",
   "id": "c0896d6e",
   "metadata": {},
   "source": [
    "Manual Scrapping in which we ask the user to give a keyword and extract the links from the dark web using the keyword. For better performance,we check the contents of the link and then compare it with the most common keywords. Then the links that exceed the thershold are flagged and printed."
   ]
  },
  {
   "cell_type": "code",
   "execution_count": null,
   "id": "ec8a4bdb",
   "metadata": {},
   "outputs": [],
   "source": [
    "final = []\n",
    "for link in links1:\n",
    "    try:\n",
    "        temp_res = requests.get(link)\n",
    "        temp_soup = BeautifulSoup(temp_res.content, \"html.parser\")\n",
    "        tag = temp_soup.body\n",
    "        temp_str = ''\n",
    "        for string in tag.strings:\n",
    "            temp_str += string\n",
    "    #     print(temp_str)\n",
    "        count=0\n",
    "        for i in final_dataset:\n",
    "            if i in temp_str:\n",
    "                count+=1\n",
    "        if(count>5):\n",
    "            final.append(link)\n",
    "            if len(final) > 10:\n",
    "                break\n",
    "    except:\n",
    "        pass\n",
    "print(final)\n",
    "print(len(final))"
   ]
  }
 ],
 "metadata": {
  "kernelspec": {
   "display_name": "Python 3",
   "language": "python",
   "name": "python3"
  },
  "language_info": {
   "codemirror_mode": {
    "name": "ipython",
    "version": 3
   },
   "file_extension": ".py",
   "mimetype": "text/x-python",
   "name": "python",
   "nbconvert_exporter": "python",
   "pygments_lexer": "ipython3",
   "version": "3.8.8"
  }
 },
 "nbformat": 4,
 "nbformat_minor": 5
}
